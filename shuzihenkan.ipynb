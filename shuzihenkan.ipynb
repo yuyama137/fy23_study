{
 "cells": [
  {
   "cell_type": "code",
   "execution_count": 9,
   "metadata": {},
   "outputs": [
    {
     "name": "stderr",
     "output_type": "stream",
     "text": [
      "/var/folders/kt/026ybdfj1nx440kk4b1nbgjw0000gn/T/ipykernel_3375/1393216094.py:11: FutureWarning:\n",
      "\n",
      "The pandas.np module is deprecated and will be removed from pandas in a future version. Import numpy directly instead.\n",
      "\n",
      "/Users/yuichiro/.pyenv/versions/miniforge3-4.10.1-5/lib/python3.9/site-packages/dash/dash.py:516: UserWarning:\n",
      "\n",
      "JupyterDash is deprecated, use Dash instead.\n",
      "See https://dash.plotly.com/dash-in-jupyter for more details.\n",
      "\n"
     ]
    },
    {
     "ename": "TypeError",
     "evalue": "an integer is required (got type NoneType)",
     "output_type": "error",
     "traceback": [
      "\u001b[0;31m---------------------------------------------------------------------------\u001b[0m",
      "\u001b[0;31mTypeError\u001b[0m                                 Traceback (most recent call last)",
      "Cell \u001b[0;32mIn[9], line 45\u001b[0m\n\u001b[1;32m     41\u001b[0m     fig\u001b[39m.\u001b[39madd_trace(go\u001b[39m.\u001b[39mScatter(x\u001b[39m=\u001b[39mdf_group[\u001b[39m'\u001b[39m\u001b[39mdate\u001b[39m\u001b[39m'\u001b[39m], y\u001b[39m=\u001b[39mdf_group[\u001b[39m'\u001b[39m\u001b[39mdata\u001b[39m\u001b[39m'\u001b[39m], mode\u001b[39m=\u001b[39m\u001b[39m'\u001b[39m\u001b[39mlines\u001b[39m\u001b[39m'\u001b[39m))\n\u001b[1;32m     43\u001b[0m     \u001b[39mreturn\u001b[39;00m fig\n\u001b[0;32m---> 45\u001b[0m app\u001b[39m.\u001b[39;49mrun_server(mode\u001b[39m=\u001b[39;49m\u001b[39m'\u001b[39;49m\u001b[39minline\u001b[39;49m\u001b[39m'\u001b[39;49m)\n",
      "File \u001b[0;32m~/.pyenv/versions/miniforge3-4.10.1-5/lib/python3.9/site-packages/jupyter_dash/jupyter_app.py:222\u001b[0m, in \u001b[0;36mJupyterDash.run_server\u001b[0;34m(self, mode, width, height, inline_exceptions, **kwargs)\u001b[0m\n\u001b[1;32m    220\u001b[0m old_server \u001b[39m=\u001b[39m \u001b[39mself\u001b[39m\u001b[39m.\u001b[39m_server_threads\u001b[39m.\u001b[39mget((host, port))\n\u001b[1;32m    221\u001b[0m \u001b[39mif\u001b[39;00m old_server:\n\u001b[0;32m--> 222\u001b[0m     old_server\u001b[39m.\u001b[39;49mkill()\n\u001b[1;32m    223\u001b[0m     old_server\u001b[39m.\u001b[39mjoin()\n\u001b[1;32m    224\u001b[0m     \u001b[39mdel\u001b[39;00m \u001b[39mself\u001b[39m\u001b[39m.\u001b[39m_server_threads[(host, port)]\n",
      "File \u001b[0;32m~/.pyenv/versions/miniforge3-4.10.1-5/lib/python3.9/site-packages/jupyter_dash/_stoppable_thread.py:16\u001b[0m, in \u001b[0;36mStoppableThread.kill\u001b[0;34m(self)\u001b[0m\n\u001b[1;32m     13\u001b[0m \u001b[39mdef\u001b[39;00m \u001b[39mkill\u001b[39m(\u001b[39mself\u001b[39m):\n\u001b[1;32m     14\u001b[0m     thread_id \u001b[39m=\u001b[39m \u001b[39mself\u001b[39m\u001b[39m.\u001b[39mget_id()\n\u001b[1;32m     15\u001b[0m     res \u001b[39m=\u001b[39m ctypes\u001b[39m.\u001b[39mpythonapi\u001b[39m.\u001b[39mPyThreadState_SetAsyncExc(\n\u001b[0;32m---> 16\u001b[0m         ctypes\u001b[39m.\u001b[39;49mc_long(thread_id), ctypes\u001b[39m.\u001b[39mpy_object(\u001b[39mSystemExit\u001b[39;00m)\n\u001b[1;32m     17\u001b[0m     )\n\u001b[1;32m     18\u001b[0m     \u001b[39mif\u001b[39;00m res \u001b[39m==\u001b[39m \u001b[39m0\u001b[39m:\n\u001b[1;32m     19\u001b[0m         \u001b[39mraise\u001b[39;00m \u001b[39mValueError\u001b[39;00m(\u001b[39mf\u001b[39m\u001b[39m\"\u001b[39m\u001b[39mInvalid thread id: \u001b[39m\u001b[39m{\u001b[39;00mthread_id\u001b[39m}\u001b[39;00m\u001b[39m\"\u001b[39m)\n",
      "\u001b[0;31mTypeError\u001b[0m: an integer is required (got type NoneType)"
     ]
    }
   ],
   "source": [
    "import pandas as pd\n",
    "import plotly.graph_objects as go\n",
    "from jupyter_dash import JupyterDash\n",
    "import dash_core_components as dcc\n",
    "import dash_html_components as html\n",
    "from dash.dependencies import Input, Output\n",
    "\n",
    "# ダミーデータの作成\n",
    "date_rng = pd.date_range(start='1/1/2020', end='1/01/2023', freq='D')\n",
    "df = pd.DataFrame(date_rng, columns=['date'])\n",
    "df['data'] = pd.Series(pd.np.random.randint(0,100,size=(len(date_rng))))\n",
    "\n",
    "# JupyterDashインスタンスの作成\n",
    "app = JupyterDash(__name__)\n",
    "\n",
    "# レイアウトの作成\n",
    "app.layout = html.Div([\n",
    "    html.H1('Time Series with Plotly and Dash'),\n",
    "    dcc.RadioItems(\n",
    "        id='aggregate',\n",
    "        options=[{'label': i, 'value': i} for i in ['日次', '週次', '月次', '年次']],\n",
    "        value='日次'\n",
    "    ),\n",
    "    dcc.Graph(id='time-series-chart'),\n",
    "])\n",
    "\n",
    "@app.callback(\n",
    "    Output('time-series-chart', 'figure'),\n",
    "    Input('aggregate', 'value'))\n",
    "def update_graph(aggregate):\n",
    "    if aggregate == '日次':\n",
    "        df_group = df\n",
    "    elif aggregate == '週次':\n",
    "        df_group = df.resample('W', on='date').sum().reset_index()\n",
    "    elif aggregate == '月次':\n",
    "        df_group = df.resample('M', on='date').sum().reset_index()\n",
    "    elif aggregate == '年次':\n",
    "        df_group = df.resample('Y', on='date').sum().reset_index()\n",
    "\n",
    "    fig = go.Figure()\n",
    "    fig.add_trace(go.Scatter(x=df_group['date'], y=df_group['data'], mode='lines'))\n",
    "\n",
    "    return fig\n",
    "\n",
    "app.run_server(mode='inline')\n"
   ]
  },
  {
   "cell_type": "code",
   "execution_count": 1,
   "metadata": {},
   "outputs": [
    {
     "data": {
      "application/vnd.plotly.v1+json": {
       "config": {
        "plotlyServerURL": "https://plot.ly"
       },
       "data": [
        {
         "hovertemplate": "smoker=No<br>sex=Female<br>total_bill=%{x}<br>tip=%{y}<extra></extra>",
         "legendgroup": "",
         "marker": {
          "color": "#636efa",
          "symbol": "circle"
         },
         "mode": "markers",
         "name": "",
         "orientation": "v",
         "showlegend": false,
         "type": "scatter",
         "x": [
          16.99,
          24.59,
          35.26,
          14.83,
          10.33,
          16.97,
          20.29,
          15.77,
          19.65,
          15.06,
          20.69,
          16.93,
          10.29,
          34.81,
          26.41,
          16.45,
          17.07,
          14.73,
          10.07,
          34.83,
          22.75,
          20.92,
          7.25,
          25.71,
          17.31,
          10.65,
          12.43,
          24.08,
          13.42,
          12.48,
          29.8,
          14.52,
          11.38,
          20.27,
          11.17,
          12.26,
          18.26,
          8.51,
          10.33,
          14.15,
          13.16,
          17.47,
          27.05,
          16.43,
          8.35,
          18.64,
          11.87,
          29.85,
          25,
          13.39,
          16.21,
          15.98,
          35.83,
          18.78
         ],
         "xaxis": "x3",
         "y": [
          1.01,
          3.61,
          5,
          3.02,
          1.67,
          3.5,
          2.75,
          2.23,
          3,
          3,
          2.45,
          3.07,
          2.6,
          5.2,
          1.5,
          2.47,
          3,
          2.2,
          1.83,
          5.17,
          3.25,
          4.08,
          1,
          4,
          3.5,
          1.5,
          1.8,
          2.92,
          1.68,
          2.52,
          4.2,
          2,
          2,
          2.83,
          1.5,
          2,
          3.25,
          1.25,
          2,
          2,
          2.75,
          3.5,
          5,
          2.3,
          1.5,
          1.36,
          1.63,
          5.14,
          3.75,
          2.61,
          2,
          3,
          4.67,
          3
         ],
         "yaxis": "y3"
        },
        {
         "hovertemplate": "smoker=No<br>sex=Male<br>total_bill=%{x}<br>tip=%{y}<extra></extra>",
         "legendgroup": "",
         "marker": {
          "color": "#636efa",
          "symbol": "circle"
         },
         "mode": "markers",
         "name": "",
         "orientation": "v",
         "showlegend": false,
         "type": "scatter",
         "x": [
          10.34,
          21.01,
          23.68,
          25.29,
          8.77,
          26.88,
          15.04,
          14.78,
          10.27,
          15.42,
          18.43,
          21.58,
          16.29,
          20.65,
          17.92,
          39.42,
          19.82,
          17.81,
          13.37,
          12.69,
          21.7,
          9.55,
          18.35,
          17.78,
          24.06,
          16.31,
          18.69,
          31.27,
          16.04,
          17.46,
          13.94,
          9.68,
          30.4,
          18.29,
          22.23,
          32.4,
          28.55,
          18.04,
          12.54,
          9.94,
          25.56,
          19.49,
          48.27,
          17.59,
          20.08,
          20.23,
          12.02,
          10.51,
          27.2,
          22.76,
          17.29,
          16.66,
          15.98,
          13.03,
          18.28,
          24.71,
          21.16,
          22.49,
          12.46,
          18.24,
          14,
          38.07,
          23.95,
          29.93,
          11.69,
          14.26,
          15.95,
          8.52,
          22.82,
          19.08,
          34.3,
          41.19,
          9.78,
          7.51,
          14.07,
          13.13,
          17.26,
          24.55,
          19.77,
          48.17,
          16.49,
          21.5,
          12.66,
          13.81,
          24.52,
          20.76,
          31.71,
          20.69,
          7.56,
          48.33,
          20.45,
          13.28,
          11.61,
          10.77,
          10.07,
          29.03,
          17.82
         ],
         "xaxis": "x4",
         "y": [
          1.66,
          3.5,
          3.31,
          4.71,
          2,
          3.12,
          1.96,
          3.23,
          1.71,
          1.57,
          3,
          3.92,
          3.71,
          3.35,
          4.08,
          7.58,
          3.18,
          2.34,
          2,
          2,
          4.3,
          1.45,
          2.5,
          3.27,
          3.6,
          2,
          2.31,
          5,
          2.24,
          2.54,
          3.06,
          1.32,
          5.6,
          3,
          5,
          6,
          2.05,
          3,
          2.5,
          1.56,
          4.34,
          3.51,
          6.73,
          2.64,
          3.15,
          2.01,
          1.97,
          1.25,
          4,
          3,
          2.71,
          3.4,
          2.03,
          2,
          4,
          5.85,
          3,
          3.5,
          1.5,
          3.76,
          3,
          4,
          2.55,
          5.07,
          2.31,
          2.5,
          2,
          1.48,
          2.18,
          1.5,
          6.7,
          5,
          1.73,
          2,
          2.5,
          2,
          2.74,
          2,
          2,
          5,
          2,
          3.5,
          2.5,
          2,
          3.48,
          2.24,
          4.5,
          5,
          1.44,
          9,
          3,
          2.72,
          3.39,
          1.47,
          1.25,
          5.92,
          1.75
         ],
         "yaxis": "y4"
        },
        {
         "hovertemplate": "smoker=Yes<br>sex=Female<br>total_bill=%{x}<br>tip=%{y}<extra></extra>",
         "legendgroup": "",
         "marker": {
          "color": "#636efa",
          "symbol": "circle"
         },
         "mode": "markers",
         "name": "",
         "orientation": "v",
         "showlegend": false,
         "type": "scatter",
         "x": [
          3.07,
          26.86,
          25.28,
          5.75,
          16.32,
          11.35,
          15.38,
          44.3,
          22.42,
          14.31,
          17.51,
          10.59,
          10.63,
          9.6,
          20.9,
          18.15,
          19.81,
          43.11,
          13,
          12.74,
          13,
          16.4,
          16.47,
          12.76,
          13.27,
          28.17,
          12.9,
          30.14,
          13.42,
          16.27,
          10.09,
          22.12,
          27.18
         ],
         "xaxis": "x",
         "y": [
          1,
          3.14,
          5,
          1,
          4.3,
          2.5,
          3,
          2.5,
          3.48,
          4,
          3,
          1.61,
          2,
          4,
          3.5,
          3.5,
          4.19,
          5,
          2,
          2.01,
          2,
          2.5,
          3.23,
          2.23,
          2.5,
          6.5,
          1.1,
          3.09,
          3.48,
          2.5,
          2,
          2.88,
          2
         ],
         "yaxis": "y"
        },
        {
         "hovertemplate": "smoker=Yes<br>sex=Male<br>total_bill=%{x}<br>tip=%{y}<extra></extra>",
         "legendgroup": "",
         "marker": {
          "color": "#636efa",
          "symbol": "circle"
         },
         "mode": "markers",
         "name": "",
         "orientation": "v",
         "showlegend": false,
         "type": "scatter",
         "x": [
          38.01,
          11.24,
          20.29,
          13.81,
          11.02,
          18.29,
          15.01,
          17.92,
          19.44,
          32.68,
          28.97,
          40.17,
          27.28,
          12.03,
          21.01,
          15.36,
          20.49,
          25.21,
          16,
          50.81,
          15.81,
          7.25,
          31.85,
          16.82,
          32.9,
          17.89,
          14.48,
          34.63,
          34.65,
          23.33,
          45.35,
          23.17,
          40.55,
          30.46,
          23.1,
          15.69,
          28.44,
          15.48,
          16.58,
          10.34,
          13.51,
          18.71,
          20.53,
          26.59,
          38.73,
          24.27,
          30.06,
          25.89,
          28.15,
          11.59,
          7.74,
          12.16,
          8.58,
          13.42,
          24.01,
          15.69,
          15.53,
          12.6,
          32.83,
          22.67
         ],
         "xaxis": "x2",
         "y": [
          3,
          1.76,
          3.21,
          2,
          1.98,
          3.76,
          2.09,
          3.08,
          3,
          5,
          3,
          4.73,
          4,
          1.5,
          3,
          1.64,
          4.06,
          4.29,
          2,
          10,
          3.16,
          5.15,
          3.18,
          4,
          3.11,
          2,
          2,
          3.55,
          3.68,
          5.65,
          3.5,
          6.5,
          3,
          2,
          4,
          1.5,
          2.56,
          2.02,
          4,
          2,
          2,
          4,
          4,
          3.41,
          3,
          2.03,
          2,
          5.16,
          3,
          1.5,
          1.44,
          2.2,
          1.92,
          1.58,
          2,
          3,
          3,
          1,
          1.17,
          2
         ],
         "yaxis": "y2"
        }
       ],
       "layout": {
        "annotations": [
         {
          "font": {},
          "showarrow": false,
          "text": "sex=Female",
          "x": 0.24,
          "xanchor": "center",
          "xref": "paper",
          "y": 1,
          "yanchor": "bottom",
          "yref": "paper"
         },
         {
          "font": {},
          "showarrow": false,
          "text": "sex=Male",
          "x": 0.74,
          "xanchor": "center",
          "xref": "paper",
          "y": 1,
          "yanchor": "bottom",
          "yref": "paper"
         },
         {
          "font": {},
          "showarrow": false,
          "text": "smoker=Yes",
          "textangle": 90,
          "x": 0.98,
          "xanchor": "left",
          "xref": "paper",
          "y": 0.2425,
          "yanchor": "middle",
          "yref": "paper"
         },
         {
          "font": {},
          "showarrow": false,
          "text": "smoker=No",
          "textangle": 90,
          "x": 0.98,
          "xanchor": "left",
          "xref": "paper",
          "y": 0.7575000000000001,
          "yanchor": "middle",
          "yref": "paper"
         }
        ],
        "legend": {
         "tracegroupgap": 0
        },
        "margin": {
         "t": 60
        },
        "template": {
         "data": {
          "bar": [
           {
            "error_x": {
             "color": "#2a3f5f"
            },
            "error_y": {
             "color": "#2a3f5f"
            },
            "marker": {
             "line": {
              "color": "#E5ECF6",
              "width": 0.5
             },
             "pattern": {
              "fillmode": "overlay",
              "size": 10,
              "solidity": 0.2
             }
            },
            "type": "bar"
           }
          ],
          "barpolar": [
           {
            "marker": {
             "line": {
              "color": "#E5ECF6",
              "width": 0.5
             },
             "pattern": {
              "fillmode": "overlay",
              "size": 10,
              "solidity": 0.2
             }
            },
            "type": "barpolar"
           }
          ],
          "carpet": [
           {
            "aaxis": {
             "endlinecolor": "#2a3f5f",
             "gridcolor": "white",
             "linecolor": "white",
             "minorgridcolor": "white",
             "startlinecolor": "#2a3f5f"
            },
            "baxis": {
             "endlinecolor": "#2a3f5f",
             "gridcolor": "white",
             "linecolor": "white",
             "minorgridcolor": "white",
             "startlinecolor": "#2a3f5f"
            },
            "type": "carpet"
           }
          ],
          "choropleth": [
           {
            "colorbar": {
             "outlinewidth": 0,
             "ticks": ""
            },
            "type": "choropleth"
           }
          ],
          "contour": [
           {
            "colorbar": {
             "outlinewidth": 0,
             "ticks": ""
            },
            "colorscale": [
             [
              0,
              "#0d0887"
             ],
             [
              0.1111111111111111,
              "#46039f"
             ],
             [
              0.2222222222222222,
              "#7201a8"
             ],
             [
              0.3333333333333333,
              "#9c179e"
             ],
             [
              0.4444444444444444,
              "#bd3786"
             ],
             [
              0.5555555555555556,
              "#d8576b"
             ],
             [
              0.6666666666666666,
              "#ed7953"
             ],
             [
              0.7777777777777778,
              "#fb9f3a"
             ],
             [
              0.8888888888888888,
              "#fdca26"
             ],
             [
              1,
              "#f0f921"
             ]
            ],
            "type": "contour"
           }
          ],
          "contourcarpet": [
           {
            "colorbar": {
             "outlinewidth": 0,
             "ticks": ""
            },
            "type": "contourcarpet"
           }
          ],
          "heatmap": [
           {
            "colorbar": {
             "outlinewidth": 0,
             "ticks": ""
            },
            "colorscale": [
             [
              0,
              "#0d0887"
             ],
             [
              0.1111111111111111,
              "#46039f"
             ],
             [
              0.2222222222222222,
              "#7201a8"
             ],
             [
              0.3333333333333333,
              "#9c179e"
             ],
             [
              0.4444444444444444,
              "#bd3786"
             ],
             [
              0.5555555555555556,
              "#d8576b"
             ],
             [
              0.6666666666666666,
              "#ed7953"
             ],
             [
              0.7777777777777778,
              "#fb9f3a"
             ],
             [
              0.8888888888888888,
              "#fdca26"
             ],
             [
              1,
              "#f0f921"
             ]
            ],
            "type": "heatmap"
           }
          ],
          "heatmapgl": [
           {
            "colorbar": {
             "outlinewidth": 0,
             "ticks": ""
            },
            "colorscale": [
             [
              0,
              "#0d0887"
             ],
             [
              0.1111111111111111,
              "#46039f"
             ],
             [
              0.2222222222222222,
              "#7201a8"
             ],
             [
              0.3333333333333333,
              "#9c179e"
             ],
             [
              0.4444444444444444,
              "#bd3786"
             ],
             [
              0.5555555555555556,
              "#d8576b"
             ],
             [
              0.6666666666666666,
              "#ed7953"
             ],
             [
              0.7777777777777778,
              "#fb9f3a"
             ],
             [
              0.8888888888888888,
              "#fdca26"
             ],
             [
              1,
              "#f0f921"
             ]
            ],
            "type": "heatmapgl"
           }
          ],
          "histogram": [
           {
            "marker": {
             "pattern": {
              "fillmode": "overlay",
              "size": 10,
              "solidity": 0.2
             }
            },
            "type": "histogram"
           }
          ],
          "histogram2d": [
           {
            "colorbar": {
             "outlinewidth": 0,
             "ticks": ""
            },
            "colorscale": [
             [
              0,
              "#0d0887"
             ],
             [
              0.1111111111111111,
              "#46039f"
             ],
             [
              0.2222222222222222,
              "#7201a8"
             ],
             [
              0.3333333333333333,
              "#9c179e"
             ],
             [
              0.4444444444444444,
              "#bd3786"
             ],
             [
              0.5555555555555556,
              "#d8576b"
             ],
             [
              0.6666666666666666,
              "#ed7953"
             ],
             [
              0.7777777777777778,
              "#fb9f3a"
             ],
             [
              0.8888888888888888,
              "#fdca26"
             ],
             [
              1,
              "#f0f921"
             ]
            ],
            "type": "histogram2d"
           }
          ],
          "histogram2dcontour": [
           {
            "colorbar": {
             "outlinewidth": 0,
             "ticks": ""
            },
            "colorscale": [
             [
              0,
              "#0d0887"
             ],
             [
              0.1111111111111111,
              "#46039f"
             ],
             [
              0.2222222222222222,
              "#7201a8"
             ],
             [
              0.3333333333333333,
              "#9c179e"
             ],
             [
              0.4444444444444444,
              "#bd3786"
             ],
             [
              0.5555555555555556,
              "#d8576b"
             ],
             [
              0.6666666666666666,
              "#ed7953"
             ],
             [
              0.7777777777777778,
              "#fb9f3a"
             ],
             [
              0.8888888888888888,
              "#fdca26"
             ],
             [
              1,
              "#f0f921"
             ]
            ],
            "type": "histogram2dcontour"
           }
          ],
          "mesh3d": [
           {
            "colorbar": {
             "outlinewidth": 0,
             "ticks": ""
            },
            "type": "mesh3d"
           }
          ],
          "parcoords": [
           {
            "line": {
             "colorbar": {
              "outlinewidth": 0,
              "ticks": ""
             }
            },
            "type": "parcoords"
           }
          ],
          "pie": [
           {
            "automargin": true,
            "type": "pie"
           }
          ],
          "scatter": [
           {
            "fillpattern": {
             "fillmode": "overlay",
             "size": 10,
             "solidity": 0.2
            },
            "type": "scatter"
           }
          ],
          "scatter3d": [
           {
            "line": {
             "colorbar": {
              "outlinewidth": 0,
              "ticks": ""
             }
            },
            "marker": {
             "colorbar": {
              "outlinewidth": 0,
              "ticks": ""
             }
            },
            "type": "scatter3d"
           }
          ],
          "scattercarpet": [
           {
            "marker": {
             "colorbar": {
              "outlinewidth": 0,
              "ticks": ""
             }
            },
            "type": "scattercarpet"
           }
          ],
          "scattergeo": [
           {
            "marker": {
             "colorbar": {
              "outlinewidth": 0,
              "ticks": ""
             }
            },
            "type": "scattergeo"
           }
          ],
          "scattergl": [
           {
            "marker": {
             "colorbar": {
              "outlinewidth": 0,
              "ticks": ""
             }
            },
            "type": "scattergl"
           }
          ],
          "scattermapbox": [
           {
            "marker": {
             "colorbar": {
              "outlinewidth": 0,
              "ticks": ""
             }
            },
            "type": "scattermapbox"
           }
          ],
          "scatterpolar": [
           {
            "marker": {
             "colorbar": {
              "outlinewidth": 0,
              "ticks": ""
             }
            },
            "type": "scatterpolar"
           }
          ],
          "scatterpolargl": [
           {
            "marker": {
             "colorbar": {
              "outlinewidth": 0,
              "ticks": ""
             }
            },
            "type": "scatterpolargl"
           }
          ],
          "scatterternary": [
           {
            "marker": {
             "colorbar": {
              "outlinewidth": 0,
              "ticks": ""
             }
            },
            "type": "scatterternary"
           }
          ],
          "surface": [
           {
            "colorbar": {
             "outlinewidth": 0,
             "ticks": ""
            },
            "colorscale": [
             [
              0,
              "#0d0887"
             ],
             [
              0.1111111111111111,
              "#46039f"
             ],
             [
              0.2222222222222222,
              "#7201a8"
             ],
             [
              0.3333333333333333,
              "#9c179e"
             ],
             [
              0.4444444444444444,
              "#bd3786"
             ],
             [
              0.5555555555555556,
              "#d8576b"
             ],
             [
              0.6666666666666666,
              "#ed7953"
             ],
             [
              0.7777777777777778,
              "#fb9f3a"
             ],
             [
              0.8888888888888888,
              "#fdca26"
             ],
             [
              1,
              "#f0f921"
             ]
            ],
            "type": "surface"
           }
          ],
          "table": [
           {
            "cells": {
             "fill": {
              "color": "#EBF0F8"
             },
             "line": {
              "color": "white"
             }
            },
            "header": {
             "fill": {
              "color": "#C8D4E3"
             },
             "line": {
              "color": "white"
             }
            },
            "type": "table"
           }
          ]
         },
         "layout": {
          "annotationdefaults": {
           "arrowcolor": "#2a3f5f",
           "arrowhead": 0,
           "arrowwidth": 1
          },
          "autotypenumbers": "strict",
          "coloraxis": {
           "colorbar": {
            "outlinewidth": 0,
            "ticks": ""
           }
          },
          "colorscale": {
           "diverging": [
            [
             0,
             "#8e0152"
            ],
            [
             0.1,
             "#c51b7d"
            ],
            [
             0.2,
             "#de77ae"
            ],
            [
             0.3,
             "#f1b6da"
            ],
            [
             0.4,
             "#fde0ef"
            ],
            [
             0.5,
             "#f7f7f7"
            ],
            [
             0.6,
             "#e6f5d0"
            ],
            [
             0.7,
             "#b8e186"
            ],
            [
             0.8,
             "#7fbc41"
            ],
            [
             0.9,
             "#4d9221"
            ],
            [
             1,
             "#276419"
            ]
           ],
           "sequential": [
            [
             0,
             "#0d0887"
            ],
            [
             0.1111111111111111,
             "#46039f"
            ],
            [
             0.2222222222222222,
             "#7201a8"
            ],
            [
             0.3333333333333333,
             "#9c179e"
            ],
            [
             0.4444444444444444,
             "#bd3786"
            ],
            [
             0.5555555555555556,
             "#d8576b"
            ],
            [
             0.6666666666666666,
             "#ed7953"
            ],
            [
             0.7777777777777778,
             "#fb9f3a"
            ],
            [
             0.8888888888888888,
             "#fdca26"
            ],
            [
             1,
             "#f0f921"
            ]
           ],
           "sequentialminus": [
            [
             0,
             "#0d0887"
            ],
            [
             0.1111111111111111,
             "#46039f"
            ],
            [
             0.2222222222222222,
             "#7201a8"
            ],
            [
             0.3333333333333333,
             "#9c179e"
            ],
            [
             0.4444444444444444,
             "#bd3786"
            ],
            [
             0.5555555555555556,
             "#d8576b"
            ],
            [
             0.6666666666666666,
             "#ed7953"
            ],
            [
             0.7777777777777778,
             "#fb9f3a"
            ],
            [
             0.8888888888888888,
             "#fdca26"
            ],
            [
             1,
             "#f0f921"
            ]
           ]
          },
          "colorway": [
           "#636efa",
           "#EF553B",
           "#00cc96",
           "#ab63fa",
           "#FFA15A",
           "#19d3f3",
           "#FF6692",
           "#B6E880",
           "#FF97FF",
           "#FECB52"
          ],
          "font": {
           "color": "#2a3f5f"
          },
          "geo": {
           "bgcolor": "white",
           "lakecolor": "white",
           "landcolor": "#E5ECF6",
           "showlakes": true,
           "showland": true,
           "subunitcolor": "white"
          },
          "hoverlabel": {
           "align": "left"
          },
          "hovermode": "closest",
          "mapbox": {
           "style": "light"
          },
          "paper_bgcolor": "white",
          "plot_bgcolor": "#E5ECF6",
          "polar": {
           "angularaxis": {
            "gridcolor": "white",
            "linecolor": "white",
            "ticks": ""
           },
           "bgcolor": "#E5ECF6",
           "radialaxis": {
            "gridcolor": "white",
            "linecolor": "white",
            "ticks": ""
           }
          },
          "scene": {
           "xaxis": {
            "backgroundcolor": "#E5ECF6",
            "gridcolor": "white",
            "gridwidth": 2,
            "linecolor": "white",
            "showbackground": true,
            "ticks": "",
            "zerolinecolor": "white"
           },
           "yaxis": {
            "backgroundcolor": "#E5ECF6",
            "gridcolor": "white",
            "gridwidth": 2,
            "linecolor": "white",
            "showbackground": true,
            "ticks": "",
            "zerolinecolor": "white"
           },
           "zaxis": {
            "backgroundcolor": "#E5ECF6",
            "gridcolor": "white",
            "gridwidth": 2,
            "linecolor": "white",
            "showbackground": true,
            "ticks": "",
            "zerolinecolor": "white"
           }
          },
          "shapedefaults": {
           "line": {
            "color": "#2a3f5f"
           }
          },
          "ternary": {
           "aaxis": {
            "gridcolor": "white",
            "linecolor": "white",
            "ticks": ""
           },
           "baxis": {
            "gridcolor": "white",
            "linecolor": "white",
            "ticks": ""
           },
           "bgcolor": "#E5ECF6",
           "caxis": {
            "gridcolor": "white",
            "linecolor": "white",
            "ticks": ""
           }
          },
          "title": {
           "x": 0.05
          },
          "xaxis": {
           "automargin": true,
           "gridcolor": "white",
           "linecolor": "white",
           "ticks": "",
           "title": {
            "standoff": 15
           },
           "zerolinecolor": "white",
           "zerolinewidth": 2
          },
          "yaxis": {
           "automargin": true,
           "gridcolor": "white",
           "linecolor": "white",
           "ticks": "",
           "title": {
            "standoff": 15
           },
           "zerolinecolor": "white",
           "zerolinewidth": 2
          }
         }
        },
        "updatemenus": [
         {
          "buttons": [
           {
            "args": [
             {
              "facet_col": [
               "sex"
              ],
              "facet_row": [
               "smoker"
              ],
              "x": [
               [
                16.99,
                10.34,
                21.01,
                23.68,
                24.59,
                25.29,
                8.77,
                26.88,
                15.04,
                14.78,
                10.27,
                35.26,
                15.42,
                18.43,
                14.83,
                21.58,
                10.33,
                16.29,
                16.97,
                20.65,
                17.92,
                20.29,
                15.77,
                39.42,
                19.82,
                17.81,
                13.37,
                12.69,
                21.7,
                19.65,
                9.55,
                18.35,
                15.06,
                20.69,
                17.78,
                24.06,
                16.31,
                16.93,
                18.69,
                31.27,
                16.04,
                17.46,
                13.94,
                9.68,
                30.4,
                18.29,
                22.23,
                32.4,
                28.55,
                18.04,
                12.54,
                10.29,
                34.81,
                9.94,
                25.56,
                19.49,
                38.01,
                26.41,
                11.24,
                48.27,
                20.29,
                13.81,
                11.02,
                18.29,
                17.59,
                20.08,
                16.45,
                3.07,
                20.23,
                15.01,
                12.02,
                17.07,
                26.86,
                25.28,
                14.73,
                10.51,
                17.92,
                27.2,
                22.76,
                17.29,
                19.44,
                16.66,
                10.07,
                32.68,
                15.98,
                34.83,
                13.03,
                18.28,
                24.71,
                21.16,
                28.97,
                22.49,
                5.75,
                16.32,
                22.75,
                40.17,
                27.28,
                12.03,
                21.01,
                12.46,
                11.35,
                15.38,
                44.3,
                22.42,
                20.92,
                15.36,
                20.49,
                25.21,
                18.24,
                14.31,
                14,
                7.25,
                38.07,
                23.95,
                25.71,
                17.31,
                29.93,
                10.65,
                12.43,
                24.08,
                11.69,
                13.42,
                14.26,
                15.95,
                12.48,
                29.8,
                8.52,
                14.52,
                11.38,
                22.82,
                19.08,
                20.27,
                11.17,
                12.26,
                18.26,
                8.51,
                10.33,
                14.15,
                16,
                13.16,
                17.47,
                34.3,
                41.19,
                27.05,
                16.43,
                8.35,
                18.64,
                11.87,
                9.78,
                7.51,
                14.07,
                13.13,
                17.26,
                24.55,
                19.77,
                29.85,
                48.17,
                25,
                13.39,
                16.49,
                21.5,
                12.66,
                16.21,
                13.81,
                17.51,
                24.52,
                20.76,
                31.71,
                10.59,
                10.63,
                50.81,
                15.81,
                7.25,
                31.85,
                16.82,
                32.9,
                17.89,
                14.48,
                9.6,
                34.63,
                34.65,
                23.33,
                45.35,
                23.17,
                40.55,
                20.69,
                20.9,
                30.46,
                18.15,
                23.1,
                15.69,
                19.81,
                28.44,
                15.48,
                16.58,
                7.56,
                10.34,
                43.11,
                13,
                13.51,
                18.71,
                12.74,
                13,
                16.4,
                20.53,
                16.47,
                26.59,
                38.73,
                24.27,
                12.76,
                30.06,
                25.89,
                48.33,
                13.27,
                28.17,
                12.9,
                28.15,
                11.59,
                7.74,
                30.14,
                12.16,
                13.42,
                8.58,
                15.98,
                13.42,
                16.27,
                10.09,
                20.45,
                13.28,
                22.12,
                24.01,
                15.69,
                11.61,
                10.77,
                15.53,
                10.07,
                12.6,
                32.83,
                35.83,
                29.03,
                27.18,
                22.67,
                17.82,
                18.78
               ]
              ],
              "y": [
               [
                1.01,
                1.66,
                3.5,
                3.31,
                3.61,
                4.71,
                2,
                3.12,
                1.96,
                3.23,
                1.71,
                5,
                1.57,
                3,
                3.02,
                3.92,
                1.67,
                3.71,
                3.5,
                3.35,
                4.08,
                2.75,
                2.23,
                7.58,
                3.18,
                2.34,
                2,
                2,
                4.3,
                3,
                1.45,
                2.5,
                3,
                2.45,
                3.27,
                3.6,
                2,
                3.07,
                2.31,
                5,
                2.24,
                2.54,
                3.06,
                1.32,
                5.6,
                3,
                5,
                6,
                2.05,
                3,
                2.5,
                2.6,
                5.2,
                1.56,
                4.34,
                3.51,
                3,
                1.5,
                1.76,
                6.73,
                3.21,
                2,
                1.98,
                3.76,
                2.64,
                3.15,
                2.47,
                1,
                2.01,
                2.09,
                1.97,
                3,
                3.14,
                5,
                2.2,
                1.25,
                3.08,
                4,
                3,
                2.71,
                3,
                3.4,
                1.83,
                5,
                2.03,
                5.17,
                2,
                4,
                5.85,
                3,
                3,
                3.5,
                1,
                4.3,
                3.25,
                4.73,
                4,
                1.5,
                3,
                1.5,
                2.5,
                3,
                2.5,
                3.48,
                4.08,
                1.64,
                4.06,
                4.29,
                3.76,
                4,
                3,
                1,
                4,
                2.55,
                4,
                3.5,
                5.07,
                1.5,
                1.8,
                2.92,
                2.31,
                1.68,
                2.5,
                2,
                2.52,
                4.2,
                1.48,
                2,
                2,
                2.18,
                1.5,
                2.83,
                1.5,
                2,
                3.25,
                1.25,
                2,
                2,
                2,
                2.75,
                3.5,
                6.7,
                5,
                5,
                2.3,
                1.5,
                1.36,
                1.63,
                1.73,
                2,
                2.5,
                2,
                2.74,
                2,
                2,
                5.14,
                5,
                3.75,
                2.61,
                2,
                3.5,
                2.5,
                2,
                2,
                3,
                3.48,
                2.24,
                4.5,
                1.61,
                2,
                10,
                3.16,
                5.15,
                3.18,
                4,
                3.11,
                2,
                2,
                4,
                3.55,
                3.68,
                5.65,
                3.5,
                6.5,
                3,
                5,
                3.5,
                2,
                3.5,
                4,
                1.5,
                4.19,
                2.56,
                2.02,
                4,
                1.44,
                2,
                5,
                2,
                2,
                4,
                2.01,
                2,
                2.5,
                4,
                3.23,
                3.41,
                3,
                2.03,
                2.23,
                2,
                5.16,
                9,
                2.5,
                6.5,
                1.1,
                3,
                1.5,
                1.44,
                3.09,
                2.2,
                3.48,
                1.92,
                3,
                1.58,
                2.5,
                2,
                3,
                2.72,
                2.88,
                2,
                3,
                3.39,
                1.47,
                3,
                1.25,
                1,
                1.17,
                4.67,
                5.92,
                2,
                2,
                1.75,
                3
               ]
              ]
             }
            ],
            "label": "All",
            "method": "restyle"
           },
           {
            "args": [
             {
              "facet_col": [
               "smoker"
              ],
              "x": [
               [
                10.34,
                21.01,
                23.68,
                25.29,
                8.77,
                26.88,
                15.04,
                14.78,
                10.27,
                15.42,
                18.43,
                21.58,
                16.29,
                20.65,
                17.92,
                39.42,
                19.82,
                17.81,
                13.37,
                12.69,
                21.7,
                9.55,
                18.35,
                17.78,
                24.06,
                16.31,
                18.69,
                31.27,
                16.04,
                17.46,
                13.94,
                9.68,
                30.4,
                18.29,
                22.23,
                32.4,
                28.55,
                18.04,
                12.54,
                9.94,
                25.56,
                19.49,
                38.01,
                11.24,
                48.27,
                20.29,
                13.81,
                11.02,
                18.29,
                17.59,
                20.08,
                20.23,
                15.01,
                12.02,
                10.51,
                17.92,
                27.2,
                22.76,
                17.29,
                19.44,
                16.66,
                32.68,
                15.98,
                13.03,
                18.28,
                24.71,
                21.16,
                28.97,
                22.49,
                40.17,
                27.28,
                12.03,
                21.01,
                12.46,
                15.36,
                20.49,
                25.21,
                18.24,
                14,
                38.07,
                23.95,
                29.93,
                11.69,
                14.26,
                15.95,
                8.52,
                22.82,
                19.08,
                16,
                34.3,
                41.19,
                9.78,
                7.51,
                14.07,
                13.13,
                17.26,
                24.55,
                19.77,
                48.17,
                16.49,
                21.5,
                12.66,
                13.81,
                24.52,
                20.76,
                31.71,
                50.81,
                15.81,
                7.25,
                31.85,
                16.82,
                32.9,
                17.89,
                14.48,
                34.63,
                34.65,
                23.33,
                45.35,
                23.17,
                40.55,
                20.69,
                30.46,
                23.1,
                15.69,
                28.44,
                15.48,
                16.58,
                7.56,
                10.34,
                13.51,
                18.71,
                20.53,
                26.59,
                38.73,
                24.27,
                30.06,
                25.89,
                48.33,
                28.15,
                11.59,
                7.74,
                12.16,
                8.58,
                13.42,
                20.45,
                13.28,
                24.01,
                15.69,
                11.61,
                10.77,
                15.53,
                10.07,
                12.6,
                32.83,
                29.03,
                22.67,
                17.82
               ]
              ],
              "y": [
               [
                1.66,
                3.5,
                3.31,
                4.71,
                2,
                3.12,
                1.96,
                3.23,
                1.71,
                1.57,
                3,
                3.92,
                3.71,
                3.35,
                4.08,
                7.58,
                3.18,
                2.34,
                2,
                2,
                4.3,
                1.45,
                2.5,
                3.27,
                3.6,
                2,
                2.31,
                5,
                2.24,
                2.54,
                3.06,
                1.32,
                5.6,
                3,
                5,
                6,
                2.05,
                3,
                2.5,
                1.56,
                4.34,
                3.51,
                3,
                1.76,
                6.73,
                3.21,
                2,
                1.98,
                3.76,
                2.64,
                3.15,
                2.01,
                2.09,
                1.97,
                1.25,
                3.08,
                4,
                3,
                2.71,
                3,
                3.4,
                5,
                2.03,
                2,
                4,
                5.85,
                3,
                3,
                3.5,
                4.73,
                4,
                1.5,
                3,
                1.5,
                1.64,
                4.06,
                4.29,
                3.76,
                3,
                4,
                2.55,
                5.07,
                2.31,
                2.5,
                2,
                1.48,
                2.18,
                1.5,
                2,
                6.7,
                5,
                1.73,
                2,
                2.5,
                2,
                2.74,
                2,
                2,
                5,
                2,
                3.5,
                2.5,
                2,
                3.48,
                2.24,
                4.5,
                10,
                3.16,
                5.15,
                3.18,
                4,
                3.11,
                2,
                2,
                3.55,
                3.68,
                5.65,
                3.5,
                6.5,
                3,
                5,
                2,
                4,
                1.5,
                2.56,
                2.02,
                4,
                1.44,
                2,
                2,
                4,
                4,
                3.41,
                3,
                2.03,
                2,
                5.16,
                9,
                3,
                1.5,
                1.44,
                2.2,
                1.92,
                1.58,
                3,
                2.72,
                2,
                3,
                3.39,
                1.47,
                3,
                1.25,
                1,
                1.17,
                5.92,
                2,
                1.75
               ]
              ]
             }
            ],
            "label": "Male",
            "method": "restyle"
           },
           {
            "args": [
             {
              "facet_col": [
               "smoker"
              ],
              "x": [
               [
                16.99,
                24.59,
                35.26,
                14.83,
                10.33,
                16.97,
                20.29,
                15.77,
                19.65,
                15.06,
                20.69,
                16.93,
                10.29,
                34.81,
                26.41,
                16.45,
                3.07,
                17.07,
                26.86,
                25.28,
                14.73,
                10.07,
                34.83,
                5.75,
                16.32,
                22.75,
                11.35,
                15.38,
                44.3,
                22.42,
                20.92,
                14.31,
                7.25,
                25.71,
                17.31,
                10.65,
                12.43,
                24.08,
                13.42,
                12.48,
                29.8,
                14.52,
                11.38,
                20.27,
                11.17,
                12.26,
                18.26,
                8.51,
                10.33,
                14.15,
                13.16,
                17.47,
                27.05,
                16.43,
                8.35,
                18.64,
                11.87,
                29.85,
                25,
                13.39,
                16.21,
                17.51,
                10.59,
                10.63,
                9.6,
                20.9,
                18.15,
                19.81,
                43.11,
                13,
                12.74,
                13,
                16.4,
                16.47,
                12.76,
                13.27,
                28.17,
                12.9,
                30.14,
                13.42,
                15.98,
                16.27,
                10.09,
                22.12,
                35.83,
                27.18,
                18.78
               ]
              ],
              "y": [
               [
                1.01,
                3.61,
                5,
                3.02,
                1.67,
                3.5,
                2.75,
                2.23,
                3,
                3,
                2.45,
                3.07,
                2.6,
                5.2,
                1.5,
                2.47,
                1,
                3,
                3.14,
                5,
                2.2,
                1.83,
                5.17,
                1,
                4.3,
                3.25,
                2.5,
                3,
                2.5,
                3.48,
                4.08,
                4,
                1,
                4,
                3.5,
                1.5,
                1.8,
                2.92,
                1.68,
                2.52,
                4.2,
                2,
                2,
                2.83,
                1.5,
                2,
                3.25,
                1.25,
                2,
                2,
                2.75,
                3.5,
                5,
                2.3,
                1.5,
                1.36,
                1.63,
                5.14,
                3.75,
                2.61,
                2,
                3,
                1.61,
                2,
                4,
                3.5,
                3.5,
                4.19,
                5,
                2,
                2.01,
                2,
                2.5,
                3.23,
                2.23,
                2.5,
                6.5,
                1.1,
                3.09,
                3.48,
                3,
                2.5,
                2,
                2.88,
                4.67,
                2,
                3
               ]
              ]
             }
            ],
            "label": "Female",
            "method": "restyle"
           }
          ],
          "direction": "down",
          "pad": {
           "r": 10,
           "t": 10
          },
          "showactive": true,
          "x": 0.1,
          "xanchor": "left",
          "y": 1.1,
          "yanchor": "top"
         }
        ],
        "xaxis": {
         "anchor": "y",
         "domain": [
          0,
          0.48
         ],
         "title": {
          "text": "total_bill"
         }
        },
        "xaxis2": {
         "anchor": "y2",
         "domain": [
          0.5,
          0.98
         ],
         "matches": "x",
         "title": {
          "text": "total_bill"
         }
        },
        "xaxis3": {
         "anchor": "y3",
         "domain": [
          0,
          0.48
         ],
         "matches": "x",
         "showticklabels": false
        },
        "xaxis4": {
         "anchor": "y4",
         "domain": [
          0.5,
          0.98
         ],
         "matches": "x",
         "showticklabels": false
        },
        "yaxis": {
         "anchor": "x",
         "domain": [
          0,
          0.485
         ],
         "title": {
          "text": "tip"
         }
        },
        "yaxis2": {
         "anchor": "x2",
         "domain": [
          0,
          0.485
         ],
         "matches": "y",
         "showticklabels": false
        },
        "yaxis3": {
         "anchor": "x3",
         "domain": [
          0.515,
          1
         ],
         "matches": "y",
         "title": {
          "text": "tip"
         }
        },
        "yaxis4": {
         "anchor": "x4",
         "domain": [
          0.515,
          1
         ],
         "matches": "y",
         "showticklabels": false
        }
       }
      }
     },
     "metadata": {},
     "output_type": "display_data"
    }
   ],
   "source": [
    "import plotly.express as px\n",
    "import plotly.graph_objects as go\n",
    "\n",
    "# データセットの読み込み\n",
    "df = px.data.tips()\n",
    "\n",
    "# ファセットプロットの生成\n",
    "fig = px.scatter(df, x=\"total_bill\", y=\"tip\", facet_col=\"sex\", facet_row=\"smoker\")\n",
    "\n",
    "# ボタンの定義\n",
    "buttons = [\n",
    "    dict(label=\"All\", \n",
    "         method=\"restyle\",\n",
    "         args=[{\"x\": [df[\"total_bill\"]],\n",
    "                \"y\": [df[\"tip\"]],\n",
    "                \"facet_col\": [\"sex\"],\n",
    "                \"facet_row\": [\"smoker\"]}]),\n",
    "    dict(label=\"Male\", \n",
    "         method=\"restyle\",\n",
    "         args=[{\"x\": [df[df[\"sex\"]==\"Male\"][\"total_bill\"]],\n",
    "                \"y\": [df[df[\"sex\"]==\"Male\"][\"tip\"]],\n",
    "                \"facet_col\": [\"smoker\"]}]),\n",
    "    dict(label=\"Female\", \n",
    "         method=\"restyle\",\n",
    "         args=[{\"x\": [df[df[\"sex\"]==\"Female\"][\"total_bill\"]],\n",
    "                \"y\": [df[df[\"sex\"]==\"Female\"][\"tip\"]],\n",
    "                \"facet_col\": [\"smoker\"]}])\n",
    "]\n",
    "\n",
    "# ボタンをレイアウトに追加\n",
    "fig.update_layout(\n",
    "    updatemenus=[\n",
    "        go.layout.Updatemenu(\n",
    "            buttons=buttons,\n",
    "            direction=\"down\",\n",
    "            pad={\"r\": 10, \"t\": 10},\n",
    "            showactive=True,\n",
    "            x=0.1,\n",
    "            xanchor=\"left\",\n",
    "            y=1.1,\n",
    "            yanchor=\"top\"\n",
    "        ),\n",
    "    ]\n",
    ")\n",
    "\n",
    "fig.show()"
   ]
  },
  {
   "cell_type": "code",
   "execution_count": 4,
   "metadata": {},
   "outputs": [
    {
     "name": "stdout",
     "output_type": "stream",
     "text": [
      "dash                      2.11.1             pyhd8ed1ab_0    conda-forge\n",
      "jupyter-dash              0.4.2              pyhd8ed1ab_1    conda-forge\n"
     ]
    }
   ],
   "source": [
    "!conda list | grep dash"
   ]
  },
  {
   "cell_type": "code",
   "execution_count": 3,
   "metadata": {},
   "outputs": [
    {
     "name": "stderr",
     "output_type": "stream",
     "text": [
      "/var/folders/kt/026ybdfj1nx440kk4b1nbgjw0000gn/T/ipykernel_5589/3015704552.py:3: UserWarning:\n",
      "\n",
      "\n",
      "The dash_core_components package is deprecated. Please replace\n",
      "`import dash_core_components as dcc` with `from dash import dcc`\n",
      "\n",
      "/var/folders/kt/026ybdfj1nx440kk4b1nbgjw0000gn/T/ipykernel_5589/3015704552.py:4: UserWarning:\n",
      "\n",
      "\n",
      "The dash_html_components package is deprecated. Please replace\n",
      "`import dash_html_components as html` with `from dash import html`\n",
      "\n"
     ]
    },
    {
     "data": {
      "text/html": [
       "\n",
       "        <iframe\n",
       "            width=\"100%\"\n",
       "            height=\"650\"\n",
       "            src=\"http://127.0.0.1:8050/\"\n",
       "            frameborder=\"0\"\n",
       "            allowfullscreen\n",
       "            \n",
       "        ></iframe>\n",
       "        "
      ],
      "text/plain": [
       "<IPython.lib.display.IFrame at 0x147986b20>"
      ]
     },
     "metadata": {},
     "output_type": "display_data"
    }
   ],
   "source": [
    "import dash\n",
    "import dash_bootstrap_components as dbc\n",
    "import dash_core_components as dcc\n",
    "import dash_html_components as html\n",
    "from dash.dependencies import Input, Output\n",
    "import plotly.express as px\n",
    "import pandas as pd\n",
    "\n",
    "# データセットの読み込み\n",
    "df = px.data.iris()\n",
    "\n",
    "# 利用可能なカテゴリ変数のリスト\n",
    "available_indicators = df.select_dtypes(include=[\"object\"]).columns\n",
    "\n",
    "app = dash.Dash(__name__, external_stylesheets=[dbc.themes.BOOTSTRAP])\n",
    "\n",
    "app.layout = dbc.Container([\n",
    "    dbc.Row([\n",
    "        dbc.Col([\n",
    "            dcc.Dropdown(\n",
    "                id='xaxis-column',\n",
    "                options=[{'label': i, 'value': i} for i in available_indicators],\n",
    "                value='species'\n",
    "            ),\n",
    "        ]),\n",
    "        dbc.Col([\n",
    "            dcc.Graph(id='indicator-graphic')\n",
    "        ])\n",
    "    ])\n",
    "])\n",
    "\n",
    "@app.callback(\n",
    "    Output('indicator-graphic', 'figure'),\n",
    "    Input('xaxis-column', 'value'))\n",
    "def update_graph(xaxis_column_name):\n",
    "    return px.scatter(df, x=\"sepal_width\", y=\"sepal_length\", color=xaxis_column_name)\n",
    "\n",
    "if __name__ == '__main__':\n",
    "    app.run_server(debug=True)\n"
   ]
  },
  {
   "cell_type": "code",
   "execution_count": null,
   "metadata": {},
   "outputs": [],
   "source": []
  }
 ],
 "metadata": {
  "kernelspec": {
   "display_name": "base",
   "language": "python",
   "name": "python3"
  },
  "language_info": {
   "codemirror_mode": {
    "name": "ipython",
    "version": 3
   },
   "file_extension": ".py",
   "mimetype": "text/x-python",
   "name": "python",
   "nbconvert_exporter": "python",
   "pygments_lexer": "ipython3",
   "version": "3.9.5"
  },
  "orig_nbformat": 4
 },
 "nbformat": 4,
 "nbformat_minor": 2
}
