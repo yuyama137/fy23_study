{
 "cells": [
  {
   "cell_type": "code",
   "execution_count": 9,
   "metadata": {},
   "outputs": [
    {
     "name": "stderr",
     "output_type": "stream",
     "text": [
      "/var/folders/kt/026ybdfj1nx440kk4b1nbgjw0000gn/T/ipykernel_3375/1393216094.py:11: FutureWarning:\n",
      "\n",
      "The pandas.np module is deprecated and will be removed from pandas in a future version. Import numpy directly instead.\n",
      "\n",
      "/Users/yuichiro/.pyenv/versions/miniforge3-4.10.1-5/lib/python3.9/site-packages/dash/dash.py:516: UserWarning:\n",
      "\n",
      "JupyterDash is deprecated, use Dash instead.\n",
      "See https://dash.plotly.com/dash-in-jupyter for more details.\n",
      "\n"
     ]
    },
    {
     "ename": "TypeError",
     "evalue": "an integer is required (got type NoneType)",
     "output_type": "error",
     "traceback": [
      "\u001b[0;31m---------------------------------------------------------------------------\u001b[0m",
      "\u001b[0;31mTypeError\u001b[0m                                 Traceback (most recent call last)",
      "Cell \u001b[0;32mIn[9], line 45\u001b[0m\n\u001b[1;32m     41\u001b[0m     fig\u001b[39m.\u001b[39madd_trace(go\u001b[39m.\u001b[39mScatter(x\u001b[39m=\u001b[39mdf_group[\u001b[39m'\u001b[39m\u001b[39mdate\u001b[39m\u001b[39m'\u001b[39m], y\u001b[39m=\u001b[39mdf_group[\u001b[39m'\u001b[39m\u001b[39mdata\u001b[39m\u001b[39m'\u001b[39m], mode\u001b[39m=\u001b[39m\u001b[39m'\u001b[39m\u001b[39mlines\u001b[39m\u001b[39m'\u001b[39m))\n\u001b[1;32m     43\u001b[0m     \u001b[39mreturn\u001b[39;00m fig\n\u001b[0;32m---> 45\u001b[0m app\u001b[39m.\u001b[39;49mrun_server(mode\u001b[39m=\u001b[39;49m\u001b[39m'\u001b[39;49m\u001b[39minline\u001b[39;49m\u001b[39m'\u001b[39;49m)\n",
      "File \u001b[0;32m~/.pyenv/versions/miniforge3-4.10.1-5/lib/python3.9/site-packages/jupyter_dash/jupyter_app.py:222\u001b[0m, in \u001b[0;36mJupyterDash.run_server\u001b[0;34m(self, mode, width, height, inline_exceptions, **kwargs)\u001b[0m\n\u001b[1;32m    220\u001b[0m old_server \u001b[39m=\u001b[39m \u001b[39mself\u001b[39m\u001b[39m.\u001b[39m_server_threads\u001b[39m.\u001b[39mget((host, port))\n\u001b[1;32m    221\u001b[0m \u001b[39mif\u001b[39;00m old_server:\n\u001b[0;32m--> 222\u001b[0m     old_server\u001b[39m.\u001b[39;49mkill()\n\u001b[1;32m    223\u001b[0m     old_server\u001b[39m.\u001b[39mjoin()\n\u001b[1;32m    224\u001b[0m     \u001b[39mdel\u001b[39;00m \u001b[39mself\u001b[39m\u001b[39m.\u001b[39m_server_threads[(host, port)]\n",
      "File \u001b[0;32m~/.pyenv/versions/miniforge3-4.10.1-5/lib/python3.9/site-packages/jupyter_dash/_stoppable_thread.py:16\u001b[0m, in \u001b[0;36mStoppableThread.kill\u001b[0;34m(self)\u001b[0m\n\u001b[1;32m     13\u001b[0m \u001b[39mdef\u001b[39;00m \u001b[39mkill\u001b[39m(\u001b[39mself\u001b[39m):\n\u001b[1;32m     14\u001b[0m     thread_id \u001b[39m=\u001b[39m \u001b[39mself\u001b[39m\u001b[39m.\u001b[39mget_id()\n\u001b[1;32m     15\u001b[0m     res \u001b[39m=\u001b[39m ctypes\u001b[39m.\u001b[39mpythonapi\u001b[39m.\u001b[39mPyThreadState_SetAsyncExc(\n\u001b[0;32m---> 16\u001b[0m         ctypes\u001b[39m.\u001b[39;49mc_long(thread_id), ctypes\u001b[39m.\u001b[39mpy_object(\u001b[39mSystemExit\u001b[39;00m)\n\u001b[1;32m     17\u001b[0m     )\n\u001b[1;32m     18\u001b[0m     \u001b[39mif\u001b[39;00m res \u001b[39m==\u001b[39m \u001b[39m0\u001b[39m:\n\u001b[1;32m     19\u001b[0m         \u001b[39mraise\u001b[39;00m \u001b[39mValueError\u001b[39;00m(\u001b[39mf\u001b[39m\u001b[39m\"\u001b[39m\u001b[39mInvalid thread id: \u001b[39m\u001b[39m{\u001b[39;00mthread_id\u001b[39m}\u001b[39;00m\u001b[39m\"\u001b[39m)\n",
      "\u001b[0;31mTypeError\u001b[0m: an integer is required (got type NoneType)"
     ]
    }
   ],
   "source": [
    "import pandas as pd\n",
    "import plotly.graph_objects as go\n",
    "from jupyter_dash import JupyterDash\n",
    "import dash_core_components as dcc\n",
    "import dash_html_components as html\n",
    "from dash.dependencies import Input, Output\n",
    "\n",
    "# ダミーデータの作成\n",
    "date_rng = pd.date_range(start='1/1/2020', end='1/01/2023', freq='D')\n",
    "df = pd.DataFrame(date_rng, columns=['date'])\n",
    "df['data'] = pd.Series(pd.np.random.randint(0,100,size=(len(date_rng))))\n",
    "\n",
    "# JupyterDashインスタンスの作成\n",
    "app = JupyterDash(__name__)\n",
    "\n",
    "# レイアウトの作成\n",
    "app.layout = html.Div([\n",
    "    html.H1('Time Series with Plotly and Dash'),\n",
    "    dcc.RadioItems(\n",
    "        id='aggregate',\n",
    "        options=[{'label': i, 'value': i} for i in ['日次', '週次', '月次', '年次']],\n",
    "        value='日次'\n",
    "    ),\n",
    "    dcc.Graph(id='time-series-chart'),\n",
    "])\n",
    "\n",
    "@app.callback(\n",
    "    Output('time-series-chart', 'figure'),\n",
    "    Input('aggregate', 'value'))\n",
    "def update_graph(aggregate):\n",
    "    if aggregate == '日次':\n",
    "        df_group = df\n",
    "    elif aggregate == '週次':\n",
    "        df_group = df.resample('W', on='date').sum().reset_index()\n",
    "    elif aggregate == '月次':\n",
    "        df_group = df.resample('M', on='date').sum().reset_index()\n",
    "    elif aggregate == '年次':\n",
    "        df_group = df.resample('Y', on='date').sum().reset_index()\n",
    "\n",
    "    fig = go.Figure()\n",
    "    fig.add_trace(go.Scatter(x=df_group['date'], y=df_group['data'], mode='lines'))\n",
    "\n",
    "    return fig\n",
    "\n",
    "app.run_server(mode='inline')\n"
   ]
  },
  {
   "cell_type": "code",
   "execution_count": 2,
   "metadata": {},
   "outputs": [],
   "source": [
    "import plotly.express as px"
   ]
  },
  {
   "cell_type": "code",
   "execution_count": 4,
   "metadata": {},
   "outputs": [
    {
     "name": "stdout",
     "output_type": "stream",
     "text": [
      "dash                      2.11.1             pyhd8ed1ab_0    conda-forge\n",
      "jupyter-dash              0.4.2              pyhd8ed1ab_1    conda-forge\n"
     ]
    }
   ],
   "source": [
    "!conda list | grep dash"
   ]
  },
  {
   "cell_type": "code",
   "execution_count": null,
   "metadata": {},
   "outputs": [],
   "source": []
  }
 ],
 "metadata": {
  "kernelspec": {
   "display_name": "base",
   "language": "python",
   "name": "python3"
  },
  "language_info": {
   "codemirror_mode": {
    "name": "ipython",
    "version": 3
   },
   "file_extension": ".py",
   "mimetype": "text/x-python",
   "name": "python",
   "nbconvert_exporter": "python",
   "pygments_lexer": "ipython3",
   "version": "3.9.5"
  },
  "orig_nbformat": 4
 },
 "nbformat": 4,
 "nbformat_minor": 2
}
